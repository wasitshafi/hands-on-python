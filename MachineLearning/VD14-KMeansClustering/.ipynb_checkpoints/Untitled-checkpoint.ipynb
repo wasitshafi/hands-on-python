{
 "cells": [
  {
   "cell_type": "code",
   "execution_count": 101,
   "metadata": {},
   "outputs": [],
   "source": [
    "import pandas as pd\n",
    "import matplotlib.pyplot as plt\n",
    "from sklearn.cluster import KMeans\n",
    "from sklearn.preprocessing import MinMaxScaler"
   ]
  },
  {
   "cell_type": "code",
   "execution_count": 104,
   "metadata": {},
   "outputs": [
    {
     "data": {
      "image/png": "[encoded data removed]",
      "text/plain": [
       "<Figure size 432x288 with 1 Axes>"
      ]
     },
     "metadata": {
      "needs_background": "light"
     },
     "output_type": "display_data"
    }
   ],
   "source": [
    "df = pd.read_csv(\"income.csv\")\n",
    "#print(df)\n",
    "\n",
    "#plt.scatter(X, Y, marker = '+', color = 'BLUE')\n",
    "#km = KMeans() # by default n_cluster is = 8\n",
    "km = KMeans(n_clusters = 3) # by default n_cluster is = 8\n",
    "km.fit(df[['Age']], df['Income($)'])\n",
    "\n",
    "y_predicted = km.predict(df[['Age']])\n",
    "df['cluster'] = y_predicted\n",
    "#print(df)\n",
    "\n",
    "df1 = df[df.cluster==0]\n",
    "df2 = df[df.cluster==1]\n",
    "df3 = df[df.cluster==2]\n",
    "\n",
    "#print(df1)\n",
    "#print(df2)\n",
    "#print(df3)\n",
    "\n",
    "plt.scatter(df1['Age'], df1['Income($)'], marker = '*', color = 'RED')\n",
    "plt.scatter(df2['Age'], df2['Income($)'], marker = '.', color = 'ORANGE')\n",
    "plt.scatter(df3['Age'], df3['Income($)'], marker = '+', color = 'MAROON')\n",
    "plt.xlabel('age')\n",
    "plt.ylabel('income')\n",
    "plt.show()\n",
    "\n",
    "# here cluster may not seem to be proper grouped , that may be because of scalling problem(x and y range), which can be avoided using minmaxscaller\n"
   ]
  },
  {
   "cell_type": "code",
   "execution_count": 117,
   "metadata": {},
   "outputs": [
    {
     "name": "stdout",
     "output_type": "stream",
     "text": [
      "0     0.058824\n",
      "1     0.176471\n",
      "2     0.176471\n",
      "3     0.117647\n",
      "4     0.941176\n",
      "5     0.764706\n",
      "6     0.882353\n",
      "7     0.705882\n",
      "8     0.588235\n",
      "9     0.529412\n",
      "10    0.647059\n",
      "11    0.000000\n",
      "12    0.058824\n",
      "13    0.117647\n",
      "14    0.176471\n",
      "15    0.352941\n",
      "16    0.823529\n",
      "17    0.882353\n",
      "18    1.000000\n",
      "19    0.764706\n",
      "20    0.882353\n",
      "21    0.764706\n",
      "Name: Age, dtype: float64\n",
      "0     0.213675\n",
      "1     0.384615\n",
      "2     0.136752\n",
      "3     0.128205\n",
      "4     0.897436\n",
      "5     0.940171\n",
      "6     0.982906\n",
      "7     1.000000\n",
      "8     0.948718\n",
      "9     0.726496\n",
      "10    0.786325\n",
      "11    0.000000\n",
      "12    0.025641\n",
      "13    0.051282\n",
      "14    0.038462\n",
      "15    0.068376\n",
      "16    0.170940\n",
      "17    0.153846\n",
      "18    0.162393\n",
      "19    0.299145\n",
      "20    0.316239\n",
      "21    0.111111\n",
      "Name: Income($), dtype: float64\n"
     ]
    }
   ],
   "source": [
    "scaler = MinMaxScaler()\n",
    "scaler.fit(df[['Income($)']])\n",
    "df['Income($)'] = scaler.transform(df[['Income($)']])\n",
    "#print(df['Age'])\n",
    "scaler = MinMaxScaler()\n",
    "\n",
    "scaler.fit(df[['Age']])\n",
    "df['Age'] = scaler.transform(df[['Age']])\n",
    "\n",
    "# now all values range will be (0, 1)\n",
    "print(df['Age'])\n",
    "print(df['Income($)'])"
   ]
  }
 ],
 "metadata": {
  "kernelspec": {
   "display_name": "Python 3",
   "language": "python",
   "name": "python3"
  },
  "language_info": {
   "codemirror_mode": {
    "name": "ipython",
    "version": 3
   },
   "file_extension": ".py",
   "mimetype": "text/x-python",
   "name": "python",
   "nbconvert_exporter": "python",
   "pygments_lexer": "ipython3",
   "version": "3.8.5"
  }
 },
 "nbformat": 4,
 "nbformat_minor": 4
}

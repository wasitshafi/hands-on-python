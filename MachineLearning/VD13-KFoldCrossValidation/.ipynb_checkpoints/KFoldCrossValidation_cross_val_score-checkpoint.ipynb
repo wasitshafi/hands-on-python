{
 "cells": [
  {
   "cell_type": "code",
   "execution_count": 1,
   "metadata": {},
   "outputs": [],
   "source": [
    "import pandas as pd\n",
    "from sklearn.model_selection import KFold\n",
    "from sklearn.datasets import load_digits\n",
    "from sklearn.tree import DecisionTreeClassifier\n",
    "\n",
    "from sklearn.model_selection import cross_val_score\n",
    "from sklearn.linear_model import LogisticRegression\n",
    "from sklearn.svm import SVC\n",
    "from sklearn.ensemble import RandomForestClassifier\n",
    "\n"
   ]
  },
  {
   "cell_type": "code",
   "execution_count": 2,
   "metadata": {},
   "outputs": [
    {
     "name": "stdout",
     "output_type": "stream",
     "text": [
      "model.score(x_test, y_test) :  0.75\n",
      "model.score(x_test, y_test) :  0.7305555555555555\n",
      "model.score(x_test, y_test) :  0.7994428969359332\n",
      "model.score(x_test, y_test) :  0.8607242339832869\n",
      "model.score(x_test, y_test) :  0.7855153203342619\n",
      "average score :  0.7852476013618075\n"
     ]
    }
   ],
   "source": [
    "digits = load_digits()\n",
    "X = digits.data\n",
    "Y = digits.target\n",
    "\n",
    "#print(X)\n",
    "#print(Y)\n",
    "\n",
    "#kf = KFold(n_splits = 10)\n",
    "kf = KFold() # by default n_splits = 5\n",
    "\n",
    "\n",
    "model = DecisionTreeClassifier()\n",
    "sum = 0.0\n",
    "for train_index, test_index in kf.split(X):\n",
    "    x_train, x_test, y_train, y_test = digits.data[train_index], digits.data[test_index], digits.target[train_index], digits.target[test_index]\n",
    "\n",
    "    # Let we use use DecisionTreeClassifier here\n",
    "    model.fit(x_train, y_train)\n",
    "    \n",
    "    score = model.score(x_test, y_test)\n",
    "    sum += score\n",
    "    print('model.score(x_test, y_test) : ', score)\n",
    "print(\"average score : \", sum/5)\n",
    "\n",
    "#CTM: we can use different models (logistic regression,random forest support vector machines etc) and compare their average score, so to choose the model which will fit best for our use_case\n",
    "\n",
    "#CTM : we can use directly 'cross_val_score' to get the score for different models'"
   ]
  },
  {
   "cell_type": "code",
   "execution_count": 4,
   "metadata": {},
   "outputs": [
    {
     "name": "stdout",
     "output_type": "stream",
     "text": [
      "cross_val_score(DecisionTreeClassifier(), digits.data, digits.target) : [0.77777778 0.73055556 0.78551532 0.84122563 0.7994429 ]\n",
      "scores.mean() : 0.7869034354688951\n",
      "\n",
      "cross_val_score(SVC(), digits.data, digits.target) : [0.96111111 0.94444444 0.98328691 0.98885794 0.93871866]\n",
      "scores.mean() : 0.9632838130609718\n",
      "\n",
      "cross_val_score(RandomForestClassifier(), digits.data, digits.target) : [0.93888889 0.90555556 0.95821727 0.96100279 0.92200557]\n",
      "scores.mean() : 0.9371340142370783\n"
     ]
    }
   ],
   "source": [
    "scores = cross_val_score(DecisionTreeClassifier(), digits.data, digits.target)\n",
    "print('cross_val_score(DecisionTreeClassifier(), digits.data, digits.target) :', scores)\n",
    "print('scores.mean() :', scores.mean())\n",
    "\n",
    "\n",
    "scores = cross_val_score(SVC(), digits.data, digits.target)\n",
    "print('\\ncross_val_score(SVC(), digits.data, digits.target) :', scores)\n",
    "print('scores.mean() :', scores.mean())\n",
    "\n",
    "\n",
    "scores = cross_val_score(RandomForestClassifier() , digits.data, digits.target)\n",
    "print('\\ncross_val_score(RandomForestClassifier(), digits.data, digits.target) :', scores)\n",
    "print('scores.mean() :', scores.mean())\n"
   ]
  },
  {
   "cell_type": "code",
   "execution_count": null,
   "metadata": {},
   "outputs": [],
   "source": []
  }
 ],
 "metadata": {
  "kernelspec": {
   "display_name": "Python 3",
   "language": "python",
   "name": "python3"
  },
  "language_info": {
   "codemirror_mode": {
    "name": "ipython",
    "version": 3
   },
   "file_extension": ".py",
   "mimetype": "text/x-python",
   "name": "python",
   "nbconvert_exporter": "python",
   "pygments_lexer": "ipython3",
   "version": "3.8.5"
  }
 },
 "nbformat": 4,
 "nbformat_minor": 4
}

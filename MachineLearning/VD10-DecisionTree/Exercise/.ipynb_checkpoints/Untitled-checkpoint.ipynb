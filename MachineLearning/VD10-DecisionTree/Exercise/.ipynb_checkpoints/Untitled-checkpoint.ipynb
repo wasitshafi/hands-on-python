{
 "cells": [
  {
   "cell_type": "code",
   "execution_count": 34,
   "metadata": {},
   "outputs": [],
   "source": [
    "import pandas as pd\n",
    "from sklearn.model_selection import train_test_split\n",
    "from sklearn.tree import DecisionTreeClassifier\n",
    "from sklearn.preprocessing import LabelEncoder"
   ]
  },
  {
   "cell_type": "code",
   "execution_count": 70,
   "metadata": {},
   "outputs": [
    {
     "name": "stdout",
     "output_type": "stream",
     "text": [
      "     Pclass        Age     Fare  Sex_n\n",
      "0         3  22.000000   7.2500      1\n",
      "1         1  38.000000  71.2833      0\n",
      "2         3  26.000000   7.9250      0\n",
      "3         1  35.000000  53.1000      0\n",
      "4         3  35.000000   8.0500      1\n",
      "..      ...        ...      ...    ...\n",
      "886       2  27.000000  13.0000      1\n",
      "887       1  19.000000  30.0000      0\n",
      "888       3  29.699118  23.4500      0\n",
      "889       1  26.000000  30.0000      1\n",
      "890       3  32.000000   7.7500      1\n",
      "\n",
      "[891 rows x 4 columns]\n",
      "     Survived\n",
      "0           0\n",
      "1           1\n",
      "2           1\n",
      "3           1\n",
      "4           0\n",
      "..        ...\n",
      "886         0\n",
      "887         1\n",
      "888         0\n",
      "889         1\n",
      "890         0\n",
      "\n",
      "[891 rows x 1 columns]\n",
      "model.score(x_test, y_test) :  0.7488789237668162\n",
      "[0]\n"
     ]
    },
    {
     "name": "stderr",
     "output_type": "stream",
     "text": [
      "/home/wasitshafi/.local/lib/python3.8/site-packages/pandas/core/series.py:4517: SettingWithCopyWarning: \n",
      "A value is trying to be set on a copy of a slice from a DataFrame\n",
      "\n",
      "See the caveats in the documentation: https://pandas.pydata.org/pandas-docs/stable/user_guide/indexing.html#returning-a-view-versus-a-copy\n",
      "  return super().fillna(\n",
      "<ipython-input-70-b2b779db719c>:27: SettingWithCopyWarning: \n",
      "A value is trying to be set on a copy of a slice from a DataFrame.\n",
      "Try using .loc[row_indexer,col_indexer] = value instead\n",
      "\n",
      "See the caveats in the documentation: https://pandas.pydata.org/pandas-docs/stable/user_guide/indexing.html#returning-a-view-versus-a-copy\n",
      "  X['Sex_n'] = le_sex.fit_transform(X['Sex'])\n"
     ]
    }
   ],
   "source": [
    "df = pd.read_csv('titanic.csv')\n",
    "#print(df)\n",
    "\n",
    "X = df[['Pclass', 'Sex', 'Age', 'Fare']]\n",
    "Y = df[['Survived']]\n",
    "\n",
    "\n",
    "#print(X)\n",
    "#print(Y)\n",
    "# We have do to some preprocessing, as the input data is inconsistent here\n",
    "\n",
    "meanAge = X.Age.mean()\n",
    "X.Age.fillna(meanAge, inplace = True)\n",
    "#print (X)\n",
    "\n",
    "\n",
    "#mean = df.bedroom.mean()\n",
    "#df.bedroom.fillna(mean, inplace= True) # fillna() will fill the value only on cells where it contains NaN\n",
    "#print(df)\n",
    "\n",
    "\n",
    "#x_train, x_test, y_train, y_test = train_test_split(inputs, target, test_size = .25)\n",
    "#model = DecisionTreeClassifier()\n",
    "#model.fit(x_train, y_train)\n",
    "\n",
    "le_sex = LabelEncoder()\n",
    "X['Sex_n'] = le_sex.fit_transform(X['Sex'])\n",
    "#print(X)\n",
    "X = X.drop(['Sex'], axis = 'columns')\n",
    "print(X)\n",
    "print(Y)\n",
    "x_train, x_test, y_train, y_test = train_test_split(x[['Pclass', 'Age', 'Fare', 'Sex_n']], Y)\n",
    "model = DecisionTreeClassifier();\n",
    "model.fit(x_train, y_train)\n",
    "\n",
    "print('model.score(x_test, y_test) : ', model.score(x_test, y_test))\n",
    "print(model.predict([[3,25, 7, 1]]))"
   ]
  }
 ],
 "metadata": {
  "kernelspec": {
   "display_name": "Python 3",
   "language": "python",
   "name": "python3"
  },
  "language_info": {
   "codemirror_mode": {
    "name": "ipython",
    "version": 3
   },
   "file_extension": ".py",
   "mimetype": "text/x-python",
   "name": "python",
   "nbconvert_exporter": "python",
   "pygments_lexer": "ipython3",
   "version": "3.8.5"
  }
 },
 "nbformat": 4,
 "nbformat_minor": 4
}

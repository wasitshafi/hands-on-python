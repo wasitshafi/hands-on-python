{
 "cells": [
  {
   "cell_type": "code",
   "execution_count": 1,
   "metadata": {},
   "outputs": [],
   "source": [
    "import pandas as pd\n",
    "from sklearn.preprocessing import LabelEncoder\n",
    "from sklearn.model_selection import train_test_split\n",
    "\n",
    "from sklearn.naive_bayes import MultinomialNB\n",
    "from sklearn.feature_extraction.text import CountVectorizer\n",
    "from sklearn.pipeline import Pipeline"
   ]
  },
  {
   "cell_type": "code",
   "execution_count": 2,
   "metadata": {},
   "outputs": [
    {
     "name": "stdout",
     "output_type": "stream",
     "text": [
      "[0 0 0 ... 0 0 0]\n"
     ]
    }
   ],
   "source": [
    "df = pd.read_csv('spam.csv')\n",
    "#print(df)\n",
    "\n",
    "X = df.Message\n",
    "le = LabelEncoder()\n",
    "Y = le.fit_transform(df['Category']) # 0 for ham , 1 for spam\n",
    "\n",
    "x_train, x_test, y_train, y_test = train_test_split(X, Y, test_size = .2)\n",
    "\n",
    "v = CountVectorizer()\n",
    "#print(x_train)\n",
    "x_train_count = v.fit_transform(x_train.values)\n",
    "#print(x_train_count.toarray()[:5])\n",
    "\n",
    "model = MultinomialNB()\n",
    "model.fit(x_train_count, y_train)\n",
    "\n",
    "#print('model.score(x_train_count, y_train) :',model.score(x_train_count, y_train))\n",
    "\n",
    "x_test_count = v.transform(x_test)\n",
    "#print(x_test_count) # we can't directly give raw data to model to predict, we need to first transform it\n",
    "y_predicted = model.predict(x_test_count)\n",
    "print(y_predicted)"
   ]
  },
  {
   "cell_type": "code",
   "execution_count": 9,
   "metadata": {},
   "outputs": [
    {
     "name": "stdout",
     "output_type": "stream",
     "text": [
      "model.score(x_test, y_test) :  0.9865470852017937\n"
     ]
    }
   ],
   "source": [
    "# The overhead of transforming x_train/x_test each using countvectorizer can be reduced using sklean pipline method\n",
    "model = Pipeline([('vectorizer', CountVectorizer()), ('nb', MultinomialNB())])\n",
    "\n",
    "model.fit(x_train, y_train) # passing directly x_train (email body text)\n",
    "print('model.score(x_test, y_test) : ', model.score(x_test, y_test))"
   ]
  }
 ],
 "metadata": {
  "kernelspec": {
   "display_name": "Python 3",
   "language": "python",
   "name": "python3"
  },
  "language_info": {
   "codemirror_mode": {
    "name": "ipython",
    "version": 3
   },
   "file_extension": ".py",
   "mimetype": "text/x-python",
   "name": "python",
   "nbconvert_exporter": "python",
   "pygments_lexer": "ipython3",
   "version": "3.8.5"
  }
 },
 "nbformat": 4,
 "nbformat_minor": 4
}

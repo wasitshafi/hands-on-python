{
 "cells": [
  {
   "cell_type": "code",
   "execution_count": 1,
   "metadata": {},
   "outputs": [],
   "source": [
    "import pandas as pd\n",
    "from sklearn.model_selection import train_test_split\n",
    "from sklearn.naive_bayes import GaussianNB\n",
    "from sklearn.preprocessing import LabelEncoder\n"
   ]
  },
  {
   "cell_type": "code",
   "execution_count": 17,
   "metadata": {},
   "outputs": [
    {
     "name": "stdout",
     "output_type": "stream",
     "text": [
      "model.score(x_test, y_test) :  0.7821229050279329\n",
      "[0 0 0 1 0 0 0 1 1 1]\n"
     ]
    },
    {
     "data": {
      "text/plain": [
       "array([[0.964957  , 0.035043  ],\n",
       "       [0.91525967, 0.08474033],\n",
       "       [0.96008067, 0.03991933],\n",
       "       [0.40017692, 0.59982308],\n",
       "       [0.96322533, 0.03677467],\n",
       "       [0.71310176, 0.28689824],\n",
       "       [0.96662227, 0.03337773],\n",
       "       [0.04105518, 0.95894482],\n",
       "       [0.12632924, 0.87367076],\n",
       "       [0.06941396, 0.93058604]])"
      ]
     },
     "execution_count": 17,
     "metadata": {},
     "output_type": "execute_result"
    }
   ],
   "source": [
    "df = pd.read_csv(\"titanic.csv\")\n",
    "Y = df.Survived\n",
    "df.drop(['PassengerId', 'Name', 'SibSp', 'Parch', 'Ticket', 'Cabin', 'Embarked', 'Survived'], axis = 'columns', inplace = True)\n",
    "\n",
    "#print(df)\n",
    "#print(Y)\n",
    "\n",
    "le = LabelEncoder()\n",
    "df['Sex'] = le.fit_transform(df['Sex'])\n",
    "\n",
    "df.Age.fillna(df.Age.mean(), inplace = True)\n",
    "# print (df)\n",
    "\n",
    "x_train, x_test, y_train, y_test = train_test_split(df, Y, test_size = .2)\n",
    "model = GaussianNB()\n",
    "model.fit(x_train, y_train)\n",
    "\n",
    "y_predicted = model.predict(x_test)\n",
    "#print('x_test : ', x_test)\n",
    "#print('y_predicted : ', y_predicted)\n",
    "\n",
    "\n",
    "print('model.score(x_test, y_test) : ', model.score(x_test, y_test))\n",
    "#model.predict_proba(x_test) # check probability for whole dataset\n",
    "print(y_predicted[:10])   # 0 means passenger will not survive, so its corresponding probability will be high\n",
    "model.predict_proba(x_test[:10]) # first 10 inputs\n"
   ]
  },
  {
   "cell_type": "code",
   "execution_count": null,
   "metadata": {},
   "outputs": [],
   "source": []
  }
 ],
 "metadata": {
  "kernelspec": {
   "display_name": "Python 3",
   "language": "python",
   "name": "python3"
  },
  "language_info": {
   "codemirror_mode": {
    "name": "ipython",
    "version": 3
   },
   "file_extension": ".py",
   "mimetype": "text/x-python",
   "name": "python",
   "nbconvert_exporter": "python",
   "pygments_lexer": "ipython3",
   "version": "3.8.5"
  }
 },
 "nbformat": 4,
 "nbformat_minor": 4
}

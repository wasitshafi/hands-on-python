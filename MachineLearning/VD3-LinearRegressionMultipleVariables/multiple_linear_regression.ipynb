{
 "cells": [
  {
   "cell_type": "code",
   "execution_count": 3,
   "metadata": {},
   "outputs": [],
   "source": [
    "import pandas as pd\n",
    "import numpy as np\n",
    "from sklearn import linear_model"
   ]
  },
  {
   "cell_type": "code",
   "execution_count": 36,
   "metadata": {},
   "outputs": [
    {
     "name": "stdout",
     "output_type": "stream",
     "text": [
      "   area  bedroom  age   price\n",
      "0  2000      3.0   20  550000\n",
      "1  3000      4.0   15  565000\n",
      "2  3200      NaN   18  610000\n",
      "3  3600      3.0   30  595000\n",
      "4  4000      5.0    8  760000\n"
     ]
    }
   ],
   "source": [
    "FILE_NAME = 'homeprice.csv'\n",
    "df = pd.read_csv(FILE_NAME)\n",
    "print(df)"
   ]
  },
  {
   "cell_type": "code",
   "execution_count": 41,
   "metadata": {},
   "outputs": [
    {
     "name": "stdout",
     "output_type": "stream",
     "text": [
      "   area  bedroom  age   price\n",
      "0  2000     3.00   20  550000\n",
      "1  3000     4.00   15  565000\n",
      "2  3200     3.75   18  610000\n",
      "3  3600     3.00   30  595000\n",
      "4  4000     5.00    8  760000\n"
     ]
    }
   ],
   "source": [
    "# here we noticed one bedroom cell contains NaN, so we have to clean the data first\n",
    "# we can remove that entire row or simpy put the mean of bedrooms\n",
    "\n",
    "mean = df.bedroom.mean()\n",
    "df.bedroom.fillna(mean, inplace= True) # fillna() will fill the value only on cells where it contains NaN\n",
    "print(df)"
   ]
  },
  {
   "cell_type": "code",
   "execution_count": null,
   "metadata": {},
   "outputs": [],
   "source": [
    "linear_regression_model = linear_model.LinearRegression()\n",
    "linear_regression_model.fit(df[['area', 'bedroom', 'age']], df.price) # miltiple linear regression\n",
    "print('coefficient : ', linear_regression_model.coef_)\n",
    "print('intercept   : ', linear_regression_model.intercept_)\n",
    "# predicting home price\n",
    "area = 3000  # features \n",
    "bedroom = 3  # features\n",
    "age = 10     # features\n",
    "\n",
    "print('\\n\\nlinear_regression_model.predict([[3000, 3, 40]]) : ', linear_regression_model.predict([[3000, 3, 10]])) # area, bedroom, age\n",
    "\n",
    "# we know y = m1x1 + m2x2 + m3x3 + c\n",
    "m1 = linear_regression_model.coef_[0]\n",
    "m2 = linear_regression_model.coef_[1]\n",
    "m3 = linear_regression_model.coef_[2]\n",
    "c = linear_regression_model.intercept_\n",
    "print('y = m1x1 + m2x2 + m3x3 + c : ', m1 * area + m2 * bedroom + m3 * age + c)\n"
   ]
  }
 ],
 "metadata": {
  "kernelspec": {
   "display_name": "Python 3",
   "language": "python",
   "name": "python3"
  },
  "language_info": {
   "codemirror_mode": {
    "name": "ipython",
    "version": 3
   },
   "file_extension": ".py",
   "mimetype": "text/x-python",
   "name": "python",
   "nbconvert_exporter": "python",
   "pygments_lexer": "ipython3",
   "version": "3.8.5"
  }
 },
 "nbformat": 4,
 "nbformat_minor": 4
}

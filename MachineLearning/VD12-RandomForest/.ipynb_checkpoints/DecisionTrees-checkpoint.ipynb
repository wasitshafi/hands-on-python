{
 "cells": [
  {
   "cell_type": "code",
   "execution_count": 33,
   "metadata": {},
   "outputs": [],
   "source": [
    "import pandas as pd\n",
    "from sklearn.model_selection import train_test_split\n",
    "from sklearn.preprocessing import LabelEncoder # for one hot encoding\n",
    "from sklearn.tree import DecisionTreeClassifier"
   ]
  },
  {
   "cell_type": "code",
   "execution_count": 51,
   "metadata": {},
   "outputs": [
    {
     "name": "stdout",
     "output_type": "stream",
     "text": [
      "model.score(x_test, y_test) :  1.0\n",
      "x_test      : \n",
      "     company_n  job_n  degree_n\n",
      "13          1      0         1\n",
      "10          1      2         0\n",
      "15          1      1         1\n",
      "7           0      1         0\n",
      "\n",
      "\n",
      "y_predicted :  [1 1 1 0]\n"
     ]
    }
   ],
   "source": [
    "FILE_NAME = 'salaries.csv'\n",
    "df = pd.read_csv(FILE_NAME)\n",
    "#print(df)\n",
    "\n",
    "# Divided into target variable and independent variable\n",
    "inputs = df.drop('salary_more_then_100k', axis = 'columns') # X\n",
    "targets = df['salary_more_then_100k']      # Y\n",
    "\n",
    "#print(inputs)\n",
    "#print(targets)\n",
    "\n",
    "le_company = LabelEncoder() # creating objects\n",
    "le_job = LabelEncoder()\n",
    "le_degree = LabelEncoder()\n",
    "\n",
    "# adding new columns to df\n",
    "inputs['company_n'] = le_company.fit_transform(inputs['company'])\n",
    "inputs['job_n'] = le_company.fit_transform(inputs['job'])\n",
    "inputs['degree_n'] = le_company.fit_transform(inputs['degree'])\n",
    "#print(inputs)\n",
    "\n",
    "# now we don't need column with nominal variables, so drop them\n",
    "inputs = inputs.drop(['company', 'job', 'degree'], axis='columns')\n",
    "\n",
    "#print(inputs)\n",
    "#print(targets)\n",
    "# now we have of X data\n",
    "\n",
    "x_train, x_test, y_train, y_test = train_test_split(inputs, target, test_size = .25)\n",
    "model = DecisionTreeClassifier()\n",
    "model.fit(x_train, y_train)\n",
    "\n",
    "print('model.score(x_test, y_test) : ', model.score(x_test, y_test))\n",
    "#print(x_test)\n",
    "y_predicted = model.predict(x_test)\n",
    "# company 0,1,2 ==abc pharma, facebook, google\n",
    "# job 0, 1, 2 == business manager, computer programmer, sales executives\n",
    "# degree 0 ,1 == bachelors, masters\n",
    "print('x_test      : \\n', x_test)\n",
    "# y_predicted 0, 1 === not salary_more_then_100k, salary_more_then_100k \n",
    "print('\\n\\ny_predicted : ', y_predicted)\n"
   ]
  }
 ],
 "metadata": {
  "kernelspec": {
   "display_name": "Python 3",
   "language": "python",
   "name": "python3"
  },
  "language_info": {
   "codemirror_mode": {
    "name": "ipython",
    "version": 3
   },
   "file_extension": ".py",
   "mimetype": "text/x-python",
   "name": "python",
   "nbconvert_exporter": "python",
   "pygments_lexer": "ipython3",
   "version": "3.8.5"
  }
 },
 "nbformat": 4,
 "nbformat_minor": 4
}

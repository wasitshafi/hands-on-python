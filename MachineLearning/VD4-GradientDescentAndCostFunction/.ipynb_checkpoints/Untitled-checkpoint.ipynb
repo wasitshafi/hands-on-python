{
 "cells": [
  {
   "cell_type": "code",
   "execution_count": 1,
   "metadata": {},
   "outputs": [],
   "source": [
    "import pandas as pd\n",
    "import numpy as np\n",
    "from sklearn import linear_model"
   ]
  },
  {
   "cell_type": "code",
   "execution_count": 11,
   "metadata": {},
   "outputs": [
    {
     "ename": "SyntaxError",
     "evalue": "invalid syntax (<ipython-input-11-8d883f3471aa>, line 18)",
     "output_type": "error",
     "traceback": [
      "\u001b[0;36m  File \u001b[0;32m\"<ipython-input-11-8d883f3471aa>\"\u001b[0;36m, line \u001b[0;32m18\u001b[0m\n\u001b[0;31m    x = np.array({1, 2, 3, 4, 5})\u001b[0m\n\u001b[0m    ^\u001b[0m\n\u001b[0;31mSyntaxError\u001b[0m\u001b[0;31m:\u001b[0m invalid syntax\n"
     ]
    }
   ],
   "source": [
    "def gradient_descent(x, y):\n",
    "    iteration = 10000\n",
    "    learning_rate = .0001\n",
    "    \n",
    "    m_curr = b_curr = 0\n",
    "    n = len(x)\n",
    "    \n",
    "    for i in range(iteration):\n",
    "        y_predicted = m_curr * x + b_curr # y = mx + c\n",
    "        cost = 1/n * sum((val** 2 for val in (y - y_predicted)))\n",
    "        md = -(2/n) * sum(x * (y - y_predicted)) # derevative of m based on foumula\n",
    "        bd = -(2/n) * sum(y - y_predicted)\n",
    "        m_curr = m_curr - learning_rate * md # new values\n",
    "        b_curr = b_curr - learning_rate * mb\n",
    "        print(\"m {}, b{}, iteration{} \".format(m_curr, b_curr, i)\n",
    "        \n",
    "\n",
    "x = np.array([1, 2, 3, 4, 5])\n",
    "y = np.array([5, 7, 9, 11, 13])\n",
    "\n",
    "gradent_descent(x, y)"
   ]
  }
 ],
 "metadata": {
  "kernelspec": {
   "display_name": "Python 3",
   "language": "python",
   "name": "python3"
  },
  "language_info": {
   "codemirror_mode": {
    "name": "ipython",
    "version": 3
   },
   "file_extension": ".py",
   "mimetype": "text/x-python",
   "name": "python",
   "nbconvert_exporter": "python",
   "pygments_lexer": "ipython3",
   "version": "3.8.5"
  }
 },
 "nbformat": 4,
 "nbformat_minor": 4
}

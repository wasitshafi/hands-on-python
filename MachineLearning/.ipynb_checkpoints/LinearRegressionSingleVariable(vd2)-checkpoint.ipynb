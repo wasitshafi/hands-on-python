{
 "cells": [
  {
   "cell_type": "code",
   "execution_count": 1,
   "metadata": {},
   "outputs": [],
   "source": [
    "import pandas as pd\n",
    "import numpy as np\n",
    "import matplotlib.pyplot as plt\n",
    "from sklearn import linear_model"
   ]
  },
  {
   "cell_type": "code",
   "execution_count": 2,
   "metadata": {},
   "outputs": [
    {
     "name": "stdout",
     "output_type": "stream",
     "text": [
      "    area   price\n",
      "0  26000  550000\n",
      "1  30000  565000\n",
      "2  32000  610000\n",
      "3  36000  680000\n",
      "4  40000  720000\n"
     ]
    }
   ],
   "source": [
    "# loading data\n",
    "FILENAME = 'homeprice.csv'\n",
    "df = pd.read_csv(FILENAME)\n",
    "print(df)"
   ]
  },
  {
   "cell_type": "code",
   "execution_count": 3,
   "metadata": {},
   "outputs": [
    {
     "data": {
      "text/plain": [
       "<matplotlib.collections.PathCollection at 0x7f03373b7430>"
      ]
     },
     "execution_count": 3,
     "metadata": {},
     "output_type": "execute_result"
    },
    {
     "data": {
      "image/png": "[encoded data removed]",
      "text/plain": [
       "<Figure size 432x288 with 1 Axes>"
      ]
     },
     "metadata": {
      "needs_background": "light"
     },
     "output_type": "display_data"
    }
   ],
   "source": [
    "# ploting a data\n",
    "#%matplotlib inline\n",
    "\n",
    "plt.xlabel('Area')\n",
    "plt.ylabel('Price')\n",
    "plt.scatter(df.area, df.price, color='red', marker='+')\n",
    "#plt.scatter(df['area'], df['price'], color='red', marker='+')\n"
   ]
  },
  {
   "cell_type": "code",
   "execution_count": 4,
   "metadata": {},
   "outputs": [
    {
     "name": "stdout",
     "output_type": "stream",
     "text": [
      "perdict(35000) : [654195.20547945]\n",
      "model coef_ :  [13.27054795]\n",
      "model intercept_ :  189726.0273972603\n",
      "mx + c :  [654195.20547945]\n"
     ]
    }
   ],
   "source": [
    "linear_regression_model = linear_model.LinearRegression() # Created Object of LinearRegression\n",
    "linear_regression_model.fit(df[['area']], df.price)       # model is ready to predict now\n",
    "print('perdict(35000) :', linear_regression_model.predict([[35000]]))# predcting the house price with area 400000\n",
    "print('model coef_ : ', linear_regression_model.coef_)    # we know Y = MX + C, coef_ is M , and C in intercept\n",
    "print('model intercept_ : ', linear_regression_model.intercept_)\n",
    "\n",
    "# using above 2 value we can manually predice the price\n",
    "m = linear_regression_model.coef_\n",
    "c = linear_regression_model.intercept_\n",
    "x = 35000\n",
    "# In case of Linear Regression it tries to make a best-fit line\n",
    "print('mx + c : ', m*x+c) # now we know how the model was able to predice the price"
   ]
  },
  {
   "cell_type": "code",
   "execution_count": 31,
   "metadata": {},
   "outputs": [],
   "source": [
    "# reading DataFrame\n",
    "df_area = pd.read_csv('area.csv')\n",
    "#ar = np.array(df_area['area']).reshape(-1,1) # reshape (-1,1) will make any no of rows but only 1 column \n",
    "pr = linear_regression_model.predict(df_area)\n",
    "df_area['price'] = pr\n",
    "\n",
    "#print(df_area)\n",
    "df_area.to_csv('area.csv', index = 'False')"
   ]
  }
 ],
 "metadata": {
  "kernelspec": {
   "display_name": "Python 3",
   "language": "python",
   "name": "python3"
  },
  "language_info": {
   "codemirror_mode": {
    "name": "ipython",
    "version": 3
   },
   "file_extension": ".py",
   "mimetype": "text/x-python",
   "name": "python",
   "nbconvert_exporter": "python",
   "pygments_lexer": "ipython3",
   "version": "3.8.5"
  }
 },
 "nbformat": 4,
 "nbformat_minor": 4
}

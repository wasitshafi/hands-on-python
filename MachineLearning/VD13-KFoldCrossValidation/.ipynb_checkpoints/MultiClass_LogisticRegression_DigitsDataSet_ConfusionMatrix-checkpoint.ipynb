{
 "cells": [
  {
   "cell_type": "code",
   "execution_count": 1,
   "metadata": {},
   "outputs": [],
   "source": [
    "import pandas as pd\n",
    "import matplotlib.pyplot as plt\n",
    "from sklearn.datasets import load_digits\n",
    "from sklearn.linear_model import LogisticRegression\n",
    "from sklearn.model_selection import train_test_split\n",
    "from sklearn.metrics import confusion_matrix\n",
    "import seaborn as sn"
   ]
  },
  {
   "cell_type": "code",
   "execution_count": 2,
   "metadata": {},
   "outputs": [
    {
     "name": "stdout",
     "output_type": "stream",
     "text": [
      "\n",
      "dir(digits)\n",
      "['DESCR', 'data', 'feature_names', 'frame', 'images', 'target', 'target_names']\n",
      "\n",
      "len(digits.data)\n",
      "1797\n",
      "\n",
      "digits.data[0]\n",
      "[ 0.  0.  5. 13.  9.  1.  0.  0.  0.  0. 13. 15. 10. 15.  5.  0.  0.  3.\n",
      " 15.  2.  0. 11.  8.  0.  0.  4. 12.  0.  0.  8.  8.  0.  0.  5.  8.  0.\n",
      "  0.  9.  8.  0.  0.  4. 11.  0.  1. 12.  7.  0.  0.  2. 14.  5. 10. 12.\n",
      "  0.  0.  0.  0.  6. 13. 10.  0.  0.  0.]\n",
      "\n",
      "digits.images[0]\n",
      "[[ 0.  0.  5. 13.  9.  1.  0.  0.]\n",
      " [ 0.  0. 13. 15. 10. 15.  5.  0.]\n",
      " [ 0.  3. 15.  2.  0. 11.  8.  0.]\n",
      " [ 0.  4. 12.  0.  0.  8.  8.  0.]\n",
      " [ 0.  5.  8.  0.  0.  9.  8.  0.]\n",
      " [ 0.  4. 11.  0.  1. 12.  7.  0.]\n",
      " [ 0.  2. 14.  5. 10. 12.  0.  0.]\n",
      " [ 0.  0.  6. 13. 10.  0.  0.  0.]]\n",
      "\n",
      "\n",
      "digits.images[0]\n",
      "digits.images[0]\n",
      "digits.images[0]\n",
      "digits.images[27]\n",
      "\n",
      "digits.target[0]\n",
      "0\n",
      "\n",
      "digits.target[1]\n",
      "1\n",
      "\n",
      "digits.target[27]\n",
      "7\n"
     ]
    },
    {
     "data": {
      "text/plain": [
       "<Figure size 432x288 with 0 Axes>"
      ]
     },
     "metadata": {},
     "output_type": "display_data"
    },
    {
     "data": {
      "image/png": "[encoded data removed]",
      "text/plain": [
       "<Figure size 288x288 with 1 Axes>"
      ]
     },
     "metadata": {
      "needs_background": "light"
     },
     "output_type": "display_data"
    },
    {
     "data": {
      "image/png": "[encoded data removed]",
      "text/plain": [
       "<Figure size 288x288 with 1 Axes>"
      ]
     },
     "metadata": {
      "needs_background": "light"
     },
     "output_type": "display_data"
    },
    {
     "data": {
      "image/png": "[encoded data removed]",
      "text/plain": [
       "<Figure size 288x288 with 1 Axes>"
      ]
     },
     "metadata": {
      "needs_background": "light"
     },
     "output_type": "display_data"
    }
   ],
   "source": [
    "# load_digits is dataset that contain images of written image, of size 8X8(1D Arrays of 64 elements)\n",
    "digits = load_digits() # creating object of load_digits()\n",
    "\n",
    "print('\\ndir(digits)')\n",
    "print(dir(digits))\n",
    "#print(digits)\n",
    "\n",
    "print('\\nlen(digits.data)')\n",
    "print(len(digits.data)) # It contains total 1797 images\n",
    "\n",
    "print('\\ndigits.data[0]')\n",
    "print(digits.data[0]) # printing first image data in the numeric form(array) (1D array of size 64)\n",
    "\n",
    "print('\\ndigits.images[0]')\n",
    "print(digits.images[0]) # printing first image data in the numeric form(array) (2D array of size 8X8 representing intensity)\n",
    "\n",
    "# Printing actual image\n",
    "print('\\n\\ndigits.images[0]')\n",
    "plt.gray()\n",
    "print('digits.images[0]')\n",
    "plt.matshow(digits.images[0])\n",
    "\n",
    "print('digits.images[0]')\n",
    "plt.matshow(digits.images[1])\n",
    "\n",
    "print('digits.images[27]')\n",
    "plt.matshow(digits.images[27])\n",
    "\n",
    "# Printing all the dataset images (it will take a lot of time)\n",
    "#for image in digits.images:\n",
    "#    plt.matshow(image)\n",
    "\n",
    "print('\\ndigits.target[0]') # numberic form of image\n",
    "print(digits.target[0])\n",
    "\n",
    "print('\\ndigits.target[1]')\n",
    "print(digits.target[1])\n",
    "\n",
    "print('\\ndigits.target[27]')\n",
    "print(digits.target[27])"
   ]
  },
  {
   "cell_type": "code",
   "execution_count": 3,
   "metadata": {},
   "outputs": [
    {
     "name": "stdout",
     "output_type": "stream",
     "text": [
      "\n",
      "\n",
      "model.score(x_test, y_test) :  0.9694444444444444\n",
      "model.predict(x_test) [9 6 7 9 3 3 4 5 0 9 4 9 9 5 3 5 1 2 4 3 0 0 1 3 3 7 4 8 7 0 9 9 0 9 3 7 1\n",
      " 7 5 5 1 6 3 4 3 9 3 7 7 1 9 9 3 4 9 8 0 4 6 6 2 2 6 6 1 6 3 9 1 3 0 2 8 6\n",
      " 9 5 8 7 5 8 4 3 4 7 0 3 0 1 4 4 8 6 7 2 7 4 8 3 7 7 2 8 7 4 8 9 2 6 3 2 4\n",
      " 2 5 5 2 6 0 0 0 2 1 5 6 4 6 1 1 4 8 0 9 2 9 1 4 7 1 6 1 2 7 5 5 1 8 7 4 7\n",
      " 2 9 2 0 2 9 5 2 2 9 6 1 7 8 0 6 3 9 2 8 3 5 4 5 0 5 4 1 7 3 0 9 2 8 5 9 1\n",
      " 9 3 2 0 5 5 9 7 8 9 4 3 0 2 3 9 9 7 8 4 6 0 4 3 4 4 6 3 5 6 8 1 6 8 3 6 0\n",
      " 3 5 1 0 0 5 3 9 1 1 1 5 7 9 2 4 2 0 9 7 7 3 5 7 8 6 5 3 9 4 1 2 5 7 1 1 7\n",
      " 3 6 3 1 7 3 8 3 4 3 4 3 3 1 4 7 7 0 9 1 9 9 8 7 9 8 1 9 2 0 7 2 0 5 5 5 7\n",
      " 1 2 6 9 6 7 5 3 4 0 6 9 6 3 0 5 1 9 9 3 2 8 2 6 8 1 8 0 5 8 2 4 6 0 0 5 1\n",
      " 8 2 1 6 1 8 0 7 2 4 0 0 8 4 8 2 5 5 4 8 4 3 6 5 2 5 1]\n",
      "digits.target[69] 9\n",
      "model.predict([digits.data[69]] [9]\n"
     ]
    },
    {
     "data": {
      "image/png": "[encoded data removed]",
      "text/plain": [
       "<Figure size 288x288 with 1 Axes>"
      ]
     },
     "metadata": {
      "needs_background": "light"
     },
     "output_type": "display_data"
    }
   ],
   "source": [
    "x_train, x_test, y_train, y_test = train_test_split(digits.data, digits.target, test_size = .2)# t_t_s(X, Y, test_size)\n",
    "\n",
    "\"\"\"\n",
    "print('len(x_train):', len(x_train))\n",
    "print('len(y_train):', len(y_train))\n",
    "\n",
    "print('len(x_test) :', len(x_test))\n",
    "print('len(y_test) :', len(y_test))\n",
    "\"\"\"\n",
    "\n",
    "#model = LogisticRegression() # with this i was getting TOTAL NO. of ITERATIONS REACHED LIMIT.\n",
    "#model = LogisticRegression(max_iter=len(x_train))\n",
    "# Refer: https://stackoverflow.com/questions/52670012/convergencewarning-liblinear-failed-to-converge-increase-the-number-of-iterati\n",
    "\n",
    "\n",
    "model = LogisticRegression(max_iter=100000)\n",
    "model.fit(x_train, y_train)\n",
    "\n",
    "print('\\n\\nmodel.score(x_test, y_test) : ',model.score(x_test, y_test))\n",
    "\n",
    "print('model.predict(x_test)', model.predict(x_test))\n",
    "\n",
    "# On individual images\n",
    "plt.matshow(digits.images[69])\n",
    "print('digits.target[69]', digits.target[69])\n",
    "\n",
    "print('model.predict([digits.data[69]]', model.predict([digits.data[69]]))"
   ]
  },
  {
   "cell_type": "code",
   "execution_count": 4,
   "metadata": {},
   "outputs": [
    {
     "name": "stdout",
     "output_type": "stream",
     "text": [
      "[[35  0  0  0  0  0  0  0  0  0]\n",
      " [ 0 33  0  0  0  0  0  0  0  0]\n",
      " [ 0  1 35  0  0  0  0  0  0  0]\n",
      " [ 0  0  0 40  0  1  0  0  1  0]\n",
      " [ 0  0  0  0 35  0  0  0  0  0]\n",
      " [ 0  1  0  0  1 35  0  0  0  1]\n",
      " [ 0  1  0  0  0  0 31  0  0  0]\n",
      " [ 0  0  0  0  0  0  0 36  0  0]\n",
      " [ 0  1  0  0  0  1  0  0 30  1]\n",
      " [ 0  0  0  1  0  0  0  0  0 39]]\n"
     ]
    }
   ],
   "source": [
    "# Confusion matrix, to see where our model pridicted wrong\n",
    "y_predicted = model.predict(x_test)\n",
    "conf_mat = confusion_matrix(y_test, y_predicted)\n",
    "print(conf_mat)"
   ]
  },
  {
   "cell_type": "code",
   "execution_count": 13,
   "metadata": {},
   "outputs": [
    {
     "data": {
      "text/plain": [
       "Text(69.0, 0.5, 'Truth')"
      ]
     },
     "execution_count": 13,
     "metadata": {},
     "output_type": "execute_result"
    },
    {
     "data": {
      "image/png": "[encoded data removed]",
      "text/plain": [
       "<Figure size 720x504 with 2 Axes>"
      ]
     },
     "metadata": {
      "needs_background": "light"
     },
     "output_type": "display_data"
    }
   ],
   "source": [
    "# graphical representation of confusion matrix\n",
    "plt.figure(figsize = (10, 7))\n",
    "sn.heatmap(conf_mat, annot=True)\n",
    "plt.xlabel('Predicted')\n",
    "plt.ylabel('Truth')"
   ]
  }
 ],
 "metadata": {
  "kernelspec": {
   "display_name": "Python 3",
   "language": "python",
   "name": "python3"
  },
  "language_info": {
   "codemirror_mode": {
    "name": "ipython",
    "version": 3
   },
   "file_extension": ".py",
   "mimetype": "text/x-python",
   "name": "python",
   "nbconvert_exporter": "python",
   "pygments_lexer": "ipython3",
   "version": "3.8.5"
  }
 },
 "nbformat": 4,
 "nbformat_minor": 4
}

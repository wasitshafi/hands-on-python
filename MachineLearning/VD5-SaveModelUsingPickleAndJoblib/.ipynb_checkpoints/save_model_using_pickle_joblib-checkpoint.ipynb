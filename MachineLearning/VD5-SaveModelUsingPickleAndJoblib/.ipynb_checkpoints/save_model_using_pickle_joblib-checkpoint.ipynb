{
 "cells": [
  {
   "cell_type": "code",
   "execution_count": 1,
   "metadata": {},
   "outputs": [],
   "source": [
    "import numpy as np\n",
    "import pandas as pd\n",
    "from sklearn import linear_model"
   ]
  },
  {
   "cell_type": "code",
   "execution_count": 2,
   "metadata": {},
   "outputs": [
    {
     "name": "stdout",
     "output_type": "stream",
     "text": [
      "    area   price\n",
      "0  26000  550000\n",
      "1  30000  565000\n",
      "2  32000  610000\n",
      "3  36000  680000\n",
      "4  40000  725000\n",
      "Enter area size : \n"
     ]
    },
    {
     "ename": "ValueError",
     "evalue": "invalid literal for int() with base 10: ''",
     "output_type": "error",
     "traceback": [
      "\u001b[0;31m---------------------------------------------------------------------------\u001b[0m",
      "\u001b[0;31mValueError\u001b[0m                                Traceback (most recent call last)",
      "\u001b[0;32m<ipython-input-2-e2998557122f>\u001b[0m in \u001b[0;36m<module>\u001b[0;34m\u001b[0m\n\u001b[1;32m      5\u001b[0m \u001b[0mmodel\u001b[0m\u001b[0;34m.\u001b[0m\u001b[0mfit\u001b[0m\u001b[0;34m(\u001b[0m\u001b[0mdf\u001b[0m\u001b[0;34m[\u001b[0m\u001b[0;34m[\u001b[0m\u001b[0;34m\"area\"\u001b[0m\u001b[0;34m]\u001b[0m\u001b[0;34m]\u001b[0m\u001b[0;34m,\u001b[0m \u001b[0mdf\u001b[0m\u001b[0;34m[\u001b[0m\u001b[0;34m'price'\u001b[0m\u001b[0;34m]\u001b[0m\u001b[0;34m)\u001b[0m    \u001b[0;31m# Traning model, after this step we can print directly predict function\u001b[0m\u001b[0;34m\u001b[0m\u001b[0;34m\u001b[0m\u001b[0m\n\u001b[1;32m      6\u001b[0m \u001b[0;34m\u001b[0m\u001b[0m\n\u001b[0;32m----> 7\u001b[0;31m \u001b[0marea_size\u001b[0m \u001b[0;34m=\u001b[0m \u001b[0mint\u001b[0m\u001b[0;34m(\u001b[0m\u001b[0minput\u001b[0m\u001b[0;34m(\u001b[0m\u001b[0;34m\"Enter area size : \"\u001b[0m\u001b[0;34m)\u001b[0m\u001b[0;34m)\u001b[0m\u001b[0;34m\u001b[0m\u001b[0;34m\u001b[0m\u001b[0m\n\u001b[0m\u001b[1;32m      8\u001b[0m \u001b[0mestimated_price\u001b[0m \u001b[0;34m=\u001b[0m \u001b[0mmodel\u001b[0m\u001b[0;34m.\u001b[0m\u001b[0mpredict\u001b[0m\u001b[0;34m(\u001b[0m\u001b[0;34m[\u001b[0m\u001b[0;34m[\u001b[0m\u001b[0marea_size\u001b[0m\u001b[0;34m]\u001b[0m\u001b[0;34m]\u001b[0m\u001b[0;34m)\u001b[0m\u001b[0;34m\u001b[0m\u001b[0;34m\u001b[0m\u001b[0m\n\u001b[1;32m      9\u001b[0m \u001b[0mprint\u001b[0m\u001b[0;34m(\u001b[0m\u001b[0;34m'Estimated Price :'\u001b[0m\u001b[0;34m,\u001b[0m \u001b[0mestimated_price\u001b[0m\u001b[0;34m)\u001b[0m\u001b[0;34m\u001b[0m\u001b[0;34m\u001b[0m\u001b[0m\n",
      "\u001b[0;31mValueError\u001b[0m: invalid literal for int() with base 10: ''"
     ]
    }
   ],
   "source": [
    "file_name = 'homeprice.csv'\n",
    "df = pd.read_csv(file_name)\n",
    "print(df)\n",
    "model = linear_model.LinearRegression() # Creating Object\n",
    "model.fit(df[[\"area\"]], df['price'])    # Traning model, after this step we can print directly predict function\n",
    "\n",
    "area_size = int(input(\"Enter area size : \"))\n",
    "estimated_price = model.predict([[area_size]])\n",
    "print('Estimated Price :', estimated_price)\n"
   ]
  },
  {
   "cell_type": "code",
   "execution_count": null,
   "metadata": {},
   "outputs": [],
   "source": [
    "# Creating and Reading  a pickle file\n",
    "import pickle\n",
    "print('pickle')\n",
    "# Create a pickle\n",
    "pickle_file_name = 'linear_model_pickle.plk' # or\n",
    "pickle_file_name = 'linear_model_pickle'\n",
    "\n",
    "# Writing Pickle Model\n",
    "# Method 1\n",
    "f = open(pickle_file_name, 'wb')\n",
    "pickle.dump(model, f)\n",
    "\"\"\"\n",
    "# Method 2\n",
    "with open(pickle_name, 'wb') as f: # We can also share that pickle file to some other popple wherepickle.dumb(model, f)\n",
    "    pickle.dump(model, f) # (object to save in pickle, file object)\n",
    "\"\"\"\n",
    "\n",
    "# Reading Pickle Model\n",
    "# Method 1\n",
    "f = open(pickle_file_name, 'rb')\n",
    "p = pickle.load(f)\n",
    "\"\"\"\n",
    "# Method 2\n",
    "with open(pickle_file_name, 'rb') as f:\n",
    "    p = pickle.load(f)\n",
    "\"\"\"\n",
    "\n",
    "area_size = int(input(\"Enter area size : \"))\n",
    "estimated_price = p.predict([[area_size]])\n",
    "print('Estimated Price :', estimated_price)"
   ]
  },
  {
   "cell_type": "code",
   "execution_count": 5,
   "metadata": {
    "scrolled": true
   },
   "outputs": [
    {
     "name": "stdout",
     "output_type": "stream",
     "text": [
      "Enter area size : 42000\n",
      "Estimated Price : [750924.65753425]\n"
     ]
    }
   ],
   "source": [
    "# using joblib (both pickle and joblib do the same thing, but if we are having numpy arrrays, then joblib will do the procession in less time)\n",
    "import joblib\n",
    "\n",
    "joblib_file_name = 'linear_model_pickle.joblib'#  or \n",
    "joblib_file_name = 'linear_model_pickle' \n",
    "# With joblib we can directly save and load files without creating a file object first\n",
    "joblib.dump(model, joblib_file_name) # model saved\n",
    "\n",
    "j = joblib.load(joblib_file_name)\n",
    "area_size = int(input(\"Enter area size : \"))\n",
    "estimated_price = j.predict([[area_size]])\n",
    "print('Estimated Price :', estimated_price)"
   ]
  }
 ],
 "metadata": {
  "kernelspec": {
   "display_name": "Python 3",
   "language": "python",
   "name": "python3"
  },
  "language_info": {
   "codemirror_mode": {
    "name": "ipython",
    "version": 3
   },
   "file_extension": ".py",
   "mimetype": "text/x-python",
   "name": "python",
   "nbconvert_exporter": "python",
   "pygments_lexer": "ipython3",
   "version": "3.8.5"
  }
 },
 "nbformat": 4,
 "nbformat_minor": 4
}

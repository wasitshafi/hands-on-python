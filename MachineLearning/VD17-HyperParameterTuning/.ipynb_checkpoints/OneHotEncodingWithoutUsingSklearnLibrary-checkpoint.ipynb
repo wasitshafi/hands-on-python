{
 "cells": [
  {
   "cell_type": "code",
   "execution_count": 1,
   "metadata": {},
   "outputs": [],
   "source": [
    "import numpy as np\n",
    "import pandas as pd\n",
    "from sklearn import linear_model"
   ]
  },
  {
   "cell_type": "code",
   "execution_count": 63,
   "metadata": {},
   "outputs": [
    {
     "name": "stdout",
     "output_type": "stream",
     "text": [
      "Estimated price of home in monroe township with area 2000 is : [463571.27499465]\n",
      "Model Score is :  0.9573929037221872\n"
     ]
    }
   ],
   "source": [
    "# One Hot Encoding without using sklearn one hot encoder\n",
    "FILE_NAME = 'homeprices.csv'\n",
    "df = pd.read_csv(FILE_NAME)\n",
    "\"\"\"\n",
    "step 1 : Create dummies variable and merge them with data frame\n",
    "step 2 : drop the nominal variable column\n",
    "step 3 : drop any one dummy variable column because of dummy varable trap problem, which say if we one varible value can be derived from other variables then that should be avoided, although if we use that with sklear library of model will still work properly as they have already handeled that case\n",
    "step 4 : save dependent variable column and drop it from df, so to provide x values\n",
    "step 5 : train model\n",
    "step 6 : predict\n",
    "\"\"\"\n",
    "\n",
    "dummies = pd.get_dummies(df.town) # dummies variable column \n",
    "df = pd.concat([df, dummies], axis=\"columns\")\n",
    "#print(df)\n",
    "df = df.drop(['town', 'robinsville'], axis='columns')\n",
    "#(1, 0) for monroe township, (0,1) for west windsor, (0, 0) for robinsville\n",
    "#print(df)\n",
    "\n",
    "model = linear_model.LinearRegression()\n",
    "price = df['price'].values # to get it as in the form of array instead of data frame\n",
    "# Now here our x value will be area & dummy variables, and y value will be price, so we have to drop price as well\n",
    "df = df.drop(['price'], axis='columns')\n",
    "#print(price)\n",
    "model.fit(df, price)\n",
    "x = model.predict([[2000, 1, 0]])\n",
    "print('Estimated price of home in monroe township with area 2000 is :', x)\n",
    "print('Model Score is : ', model.score(df, price)) # if value is 1 then it means our model is 100% perfect. here our model is 95% perfect"
   ]
  }
 ],
 "metadata": {
  "kernelspec": {
   "display_name": "Python 3",
   "language": "python",
   "name": "python3"
  },
  "language_info": {
   "codemirror_mode": {
    "name": "ipython",
    "version": 3
   },
   "file_extension": ".py",
   "mimetype": "text/x-python",
   "name": "python",
   "nbconvert_exporter": "python",
   "pygments_lexer": "ipython3",
   "version": "3.8.5"
  }
 },
 "nbformat": 4,
 "nbformat_minor": 4
}

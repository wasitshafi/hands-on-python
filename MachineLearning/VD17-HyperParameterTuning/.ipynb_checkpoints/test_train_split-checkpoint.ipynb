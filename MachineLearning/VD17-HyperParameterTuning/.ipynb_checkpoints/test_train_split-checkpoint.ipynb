{
 "cells": [
  {
   "cell_type": "code",
   "execution_count": 1,
   "metadata": {},
   "outputs": [],
   "source": [
    "import pandas as pd\n",
    "import numpy as np\n",
    "#from sklearn import linear_model # alternate\n",
    "from sklearn.linear_model import LinearRegression\n",
    "from sklearn.model_selection import train_test_split"
   ]
  },
  {
   "cell_type": "code",
   "execution_count": 4,
   "metadata": {},
   "outputs": [
    {
     "name": "stdout",
     "output_type": "stream",
     "text": [
      "model.predict([[69000, 6]] [21341.19175119]\n",
      "score  0.9322547520064053\n"
     ]
    }
   ],
   "source": [
    "FILE_NAME = 'carprices.csv'\n",
    "df = pd.read_csv(FILE_NAME)\n",
    "#print(df)\n",
    "\n",
    "model = LinearRegression()\n",
    "\"\"\"\n",
    "# Training model on whole dataset\n",
    "Y = df['Sell Price($)']\n",
    "#df = df.drop(['Sell Price($)'], axis=\"columns\")\n",
    "#print(Y)\n",
    "model.fit(df[[\"Mileage\", \"Age(yrs)\"]], Y)\n",
    "estimation = model.predict([[69000, 6]])\n",
    "print('model.predict([[69000, 6]]', estimation)\n",
    "print('score ',model.score(df[[\"Mileage\", \"Age(yrs)\"]], Y))\n",
    "\"\"\"\n",
    "X = df[['Mileage', \"Age(yrs)\"]]\n",
    "Y = df['Sell Price($)']\n",
    "#print(X)\n",
    "#print(Y)\n",
    "\n",
    "# it not like first 80% data will be selected for training\n",
    "x_train, x_test, y_train, y_test = train_test_split(X, Y, test_size=0.2)#80% training data, 20% testing data, but that will be random each time\n",
    "x_train, x_test, y_train, y_test = train_test_split(X, Y, test_size=0.2, random_state = 10)#80% training data, each time same sample will be used for training and testing\n",
    "\"\"\"\n",
    "print('len(x_train)', len(x_train))\n",
    "print('x_train')\n",
    "\n",
    "print(len(x_train)', len(x_train))\n",
    "print(x_train)\n",
    "print('y_train')\n",
    "print(y_train)\n",
    "\n",
    "print('x_test')\n",
    "print(x_test)\n",
    "print('y_test')\n",
    "print(y_test)\n",
    "\"\"\"\n",
    "\n",
    "\n",
    "model.fit(x_train, y_train) # its better to use some part for trainging instead of use all the data for training pusposes\n",
    "estimation = model.predict([[69000, 6]])\n",
    "print('model.predict([[69000, 6]]', estimation)\n",
    "print('score ',model.score(df[[\"Mileage\", \"Age(yrs)\"]], Y))\n",
    "\n"
   ]
  },
  {
   "cell_type": "code",
   "execution_count": null,
   "metadata": {},
   "outputs": [],
   "source": []
  }
 ],
 "metadata": {
  "kernelspec": {
   "display_name": "Python 3",
   "language": "python",
   "name": "python3"
  },
  "language_info": {
   "codemirror_mode": {
    "name": "ipython",
    "version": 3
   },
   "file_extension": ".py",
   "mimetype": "text/x-python",
   "name": "python",
   "nbconvert_exporter": "python",
   "pygments_lexer": "ipython3",
   "version": "3.8.5"
  }
 },
 "nbformat": 4,
 "nbformat_minor": 4
}
